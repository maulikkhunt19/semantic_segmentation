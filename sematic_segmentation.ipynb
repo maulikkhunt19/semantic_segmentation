{
  "cells": [
    {
      "cell_type": "markdown",
      "source": [
        "## 1. Install the depencies"
      ],
      "metadata": {
        "id": "PY04ha6ByRAc"
      }
    },
    {
      "cell_type": "code",
      "execution_count": 1,
      "metadata": {
        "colab": {
          "base_uri": "https://localhost:8080/"
        },
        "id": "5dyKQT8KVtnJ",
        "outputId": "e6af8df9-40cb-4d90-f1b6-62f2d15b537b"
      },
      "outputs": [
        {
          "output_type": "stream",
          "name": "stdout",
          "text": [
            "Requirement already satisfied: openmim in /usr/local/lib/python3.10/dist-packages (0.3.9)\n",
            "Requirement already satisfied: Click in /usr/local/lib/python3.10/dist-packages (from openmim) (8.1.7)\n",
            "Requirement already satisfied: colorama in /usr/local/lib/python3.10/dist-packages (from openmim) (0.4.6)\n",
            "Requirement already satisfied: model-index in /usr/local/lib/python3.10/dist-packages (from openmim) (0.1.11)\n",
            "Requirement already satisfied: opendatalab in /usr/local/lib/python3.10/dist-packages (from openmim) (0.0.10)\n",
            "Requirement already satisfied: pandas in /usr/local/lib/python3.10/dist-packages (from openmim) (1.5.3)\n",
            "Requirement already satisfied: pip>=19.3 in /usr/local/lib/python3.10/dist-packages (from openmim) (23.1.2)\n",
            "Requirement already satisfied: requests in /usr/local/lib/python3.10/dist-packages (from openmim) (2.28.2)\n",
            "Requirement already satisfied: rich in /usr/local/lib/python3.10/dist-packages (from openmim) (13.4.2)\n",
            "Requirement already satisfied: tabulate in /usr/local/lib/python3.10/dist-packages (from openmim) (0.9.0)\n",
            "Requirement already satisfied: pyyaml in /usr/local/lib/python3.10/dist-packages (from model-index->openmim) (6.0.1)\n",
            "Requirement already satisfied: markdown in /usr/local/lib/python3.10/dist-packages (from model-index->openmim) (3.4.4)\n",
            "Requirement already satisfied: ordered-set in /usr/local/lib/python3.10/dist-packages (from model-index->openmim) (4.1.0)\n",
            "Requirement already satisfied: pycryptodome in /usr/local/lib/python3.10/dist-packages (from opendatalab->openmim) (3.18.0)\n",
            "Requirement already satisfied: tqdm in /usr/local/lib/python3.10/dist-packages (from opendatalab->openmim) (4.65.2)\n",
            "Requirement already satisfied: openxlab in /usr/local/lib/python3.10/dist-packages (from opendatalab->openmim) (0.0.24)\n",
            "Requirement already satisfied: charset-normalizer<4,>=2 in /usr/local/lib/python3.10/dist-packages (from requests->openmim) (3.2.0)\n",
            "Requirement already satisfied: idna<4,>=2.5 in /usr/local/lib/python3.10/dist-packages (from requests->openmim) (3.4)\n",
            "Requirement already satisfied: urllib3<1.27,>=1.21.1 in /usr/local/lib/python3.10/dist-packages (from requests->openmim) (1.26.16)\n",
            "Requirement already satisfied: certifi>=2017.4.17 in /usr/local/lib/python3.10/dist-packages (from requests->openmim) (2023.7.22)\n",
            "Requirement already satisfied: python-dateutil>=2.8.1 in /usr/local/lib/python3.10/dist-packages (from pandas->openmim) (2.8.2)\n",
            "Requirement already satisfied: pytz>=2020.1 in /usr/local/lib/python3.10/dist-packages (from pandas->openmim) (2023.3.post1)\n",
            "Requirement already satisfied: numpy>=1.21.0 in /usr/local/lib/python3.10/dist-packages (from pandas->openmim) (1.23.5)\n",
            "Requirement already satisfied: markdown-it-py>=2.2.0 in /usr/local/lib/python3.10/dist-packages (from rich->openmim) (3.0.0)\n",
            "Requirement already satisfied: pygments<3.0.0,>=2.13.0 in /usr/local/lib/python3.10/dist-packages (from rich->openmim) (2.16.1)\n",
            "Requirement already satisfied: mdurl~=0.1 in /usr/local/lib/python3.10/dist-packages (from markdown-it-py>=2.2.0->rich->openmim) (0.1.2)\n",
            "Requirement already satisfied: six>=1.5 in /usr/local/lib/python3.10/dist-packages (from python-dateutil>=2.8.1->pandas->openmim) (1.16.0)\n",
            "Requirement already satisfied: oss2~=2.17.0 in /usr/local/lib/python3.10/dist-packages (from openxlab->opendatalab->openmim) (2.17.0)\n",
            "Requirement already satisfied: setuptools~=60.2.0 in /usr/local/lib/python3.10/dist-packages (from openxlab->opendatalab->openmim) (60.2.0)\n",
            "Requirement already satisfied: crcmod>=1.7 in /usr/local/lib/python3.10/dist-packages (from oss2~=2.17.0->openxlab->opendatalab->openmim) (1.7)\n",
            "Requirement already satisfied: aliyun-python-sdk-kms>=2.4.1 in /usr/local/lib/python3.10/dist-packages (from oss2~=2.17.0->openxlab->opendatalab->openmim) (2.16.1)\n",
            "Requirement already satisfied: aliyun-python-sdk-core>=2.13.12 in /usr/local/lib/python3.10/dist-packages (from oss2~=2.17.0->openxlab->opendatalab->openmim) (2.13.36)\n",
            "Requirement already satisfied: jmespath<1.0.0,>=0.9.3 in /usr/local/lib/python3.10/dist-packages (from aliyun-python-sdk-core>=2.13.12->oss2~=2.17.0->openxlab->opendatalab->openmim) (0.10.0)\n",
            "Requirement already satisfied: cryptography>=2.6.0 in /usr/local/lib/python3.10/dist-packages (from aliyun-python-sdk-core>=2.13.12->oss2~=2.17.0->openxlab->opendatalab->openmim) (41.0.3)\n",
            "Requirement already satisfied: cffi>=1.12 in /usr/local/lib/python3.10/dist-packages (from cryptography>=2.6.0->aliyun-python-sdk-core>=2.13.12->oss2~=2.17.0->openxlab->opendatalab->openmim) (1.15.1)\n",
            "Requirement already satisfied: pycparser in /usr/local/lib/python3.10/dist-packages (from cffi>=1.12->cryptography>=2.6.0->aliyun-python-sdk-core>=2.13.12->oss2~=2.17.0->openxlab->opendatalab->openmim) (2.21)\n",
            "Looking in links: https://download.openmmlab.com/mmcv/dist/cu118/torch2.0.0/index.html\n",
            "Requirement already satisfied: mmengine in /usr/local/lib/python3.10/dist-packages (0.8.4)\n",
            "Requirement already satisfied: addict in /usr/local/lib/python3.10/dist-packages (from mmengine) (2.4.0)\n",
            "Requirement already satisfied: matplotlib in /usr/local/lib/python3.10/dist-packages (from mmengine) (3.7.1)\n",
            "Requirement already satisfied: numpy in /usr/local/lib/python3.10/dist-packages (from mmengine) (1.23.5)\n",
            "Requirement already satisfied: pyyaml in /usr/local/lib/python3.10/dist-packages (from mmengine) (6.0.1)\n",
            "Requirement already satisfied: rich in /usr/local/lib/python3.10/dist-packages (from mmengine) (13.4.2)\n",
            "Requirement already satisfied: termcolor in /usr/local/lib/python3.10/dist-packages (from mmengine) (2.3.0)\n",
            "Requirement already satisfied: yapf in /usr/local/lib/python3.10/dist-packages (from mmengine) (0.40.1)\n",
            "Requirement already satisfied: opencv-python>=3 in /usr/local/lib/python3.10/dist-packages (from mmengine) (4.8.0.76)\n",
            "Requirement already satisfied: contourpy>=1.0.1 in /usr/local/lib/python3.10/dist-packages (from matplotlib->mmengine) (1.1.0)\n",
            "Requirement already satisfied: cycler>=0.10 in /usr/local/lib/python3.10/dist-packages (from matplotlib->mmengine) (0.11.0)\n",
            "Requirement already satisfied: fonttools>=4.22.0 in /usr/local/lib/python3.10/dist-packages (from matplotlib->mmengine) (4.42.1)\n",
            "Requirement already satisfied: kiwisolver>=1.0.1 in /usr/local/lib/python3.10/dist-packages (from matplotlib->mmengine) (1.4.5)\n",
            "Requirement already satisfied: packaging>=20.0 in /usr/local/lib/python3.10/dist-packages (from matplotlib->mmengine) (23.1)\n",
            "Requirement already satisfied: pillow>=6.2.0 in /usr/local/lib/python3.10/dist-packages (from matplotlib->mmengine) (9.4.0)\n",
            "Requirement already satisfied: pyparsing>=2.3.1 in /usr/local/lib/python3.10/dist-packages (from matplotlib->mmengine) (3.1.1)\n",
            "Requirement already satisfied: python-dateutil>=2.7 in /usr/local/lib/python3.10/dist-packages (from matplotlib->mmengine) (2.8.2)\n",
            "Requirement already satisfied: markdown-it-py>=2.2.0 in /usr/local/lib/python3.10/dist-packages (from rich->mmengine) (3.0.0)\n",
            "Requirement already satisfied: pygments<3.0.0,>=2.13.0 in /usr/local/lib/python3.10/dist-packages (from rich->mmengine) (2.16.1)\n",
            "Requirement already satisfied: importlib-metadata>=6.6.0 in /usr/local/lib/python3.10/dist-packages (from yapf->mmengine) (6.8.0)\n",
            "Requirement already satisfied: platformdirs>=3.5.1 in /usr/local/lib/python3.10/dist-packages (from yapf->mmengine) (3.10.0)\n",
            "Requirement already satisfied: tomli>=2.0.1 in /usr/local/lib/python3.10/dist-packages (from yapf->mmengine) (2.0.1)\n",
            "Requirement already satisfied: zipp>=0.5 in /usr/local/lib/python3.10/dist-packages (from importlib-metadata>=6.6.0->yapf->mmengine) (3.16.2)\n",
            "Requirement already satisfied: mdurl~=0.1 in /usr/local/lib/python3.10/dist-packages (from markdown-it-py>=2.2.0->rich->mmengine) (0.1.2)\n",
            "Requirement already satisfied: six>=1.5 in /usr/local/lib/python3.10/dist-packages (from python-dateutil>=2.7->matplotlib->mmengine) (1.16.0)\n",
            "Looking in links: https://download.openmmlab.com/mmcv/dist/cu118/torch2.0.0/index.html\n",
            "Requirement already satisfied: mmcv>=2.0.0 in /usr/local/lib/python3.10/dist-packages (2.0.1)\n",
            "Requirement already satisfied: addict in /usr/local/lib/python3.10/dist-packages (from mmcv>=2.0.0) (2.4.0)\n",
            "Requirement already satisfied: mmengine>=0.3.0 in /usr/local/lib/python3.10/dist-packages (from mmcv>=2.0.0) (0.8.4)\n",
            "Requirement already satisfied: numpy in /usr/local/lib/python3.10/dist-packages (from mmcv>=2.0.0) (1.23.5)\n",
            "Requirement already satisfied: packaging in /usr/local/lib/python3.10/dist-packages (from mmcv>=2.0.0) (23.1)\n",
            "Requirement already satisfied: Pillow in /usr/local/lib/python3.10/dist-packages (from mmcv>=2.0.0) (9.4.0)\n",
            "Requirement already satisfied: pyyaml in /usr/local/lib/python3.10/dist-packages (from mmcv>=2.0.0) (6.0.1)\n",
            "Requirement already satisfied: yapf in /usr/local/lib/python3.10/dist-packages (from mmcv>=2.0.0) (0.40.1)\n",
            "Requirement already satisfied: opencv-python>=3 in /usr/local/lib/python3.10/dist-packages (from mmcv>=2.0.0) (4.8.0.76)\n",
            "Requirement already satisfied: matplotlib in /usr/local/lib/python3.10/dist-packages (from mmengine>=0.3.0->mmcv>=2.0.0) (3.7.1)\n",
            "Requirement already satisfied: rich in /usr/local/lib/python3.10/dist-packages (from mmengine>=0.3.0->mmcv>=2.0.0) (13.4.2)\n",
            "Requirement already satisfied: termcolor in /usr/local/lib/python3.10/dist-packages (from mmengine>=0.3.0->mmcv>=2.0.0) (2.3.0)\n",
            "Requirement already satisfied: importlib-metadata>=6.6.0 in /usr/local/lib/python3.10/dist-packages (from yapf->mmcv>=2.0.0) (6.8.0)\n",
            "Requirement already satisfied: platformdirs>=3.5.1 in /usr/local/lib/python3.10/dist-packages (from yapf->mmcv>=2.0.0) (3.10.0)\n",
            "Requirement already satisfied: tomli>=2.0.1 in /usr/local/lib/python3.10/dist-packages (from yapf->mmcv>=2.0.0) (2.0.1)\n",
            "Requirement already satisfied: zipp>=0.5 in /usr/local/lib/python3.10/dist-packages (from importlib-metadata>=6.6.0->yapf->mmcv>=2.0.0) (3.16.2)\n",
            "Requirement already satisfied: contourpy>=1.0.1 in /usr/local/lib/python3.10/dist-packages (from matplotlib->mmengine>=0.3.0->mmcv>=2.0.0) (1.1.0)\n",
            "Requirement already satisfied: cycler>=0.10 in /usr/local/lib/python3.10/dist-packages (from matplotlib->mmengine>=0.3.0->mmcv>=2.0.0) (0.11.0)\n",
            "Requirement already satisfied: fonttools>=4.22.0 in /usr/local/lib/python3.10/dist-packages (from matplotlib->mmengine>=0.3.0->mmcv>=2.0.0) (4.42.1)\n",
            "Requirement already satisfied: kiwisolver>=1.0.1 in /usr/local/lib/python3.10/dist-packages (from matplotlib->mmengine>=0.3.0->mmcv>=2.0.0) (1.4.5)\n",
            "Requirement already satisfied: pyparsing>=2.3.1 in /usr/local/lib/python3.10/dist-packages (from matplotlib->mmengine>=0.3.0->mmcv>=2.0.0) (3.1.1)\n",
            "Requirement already satisfied: python-dateutil>=2.7 in /usr/local/lib/python3.10/dist-packages (from matplotlib->mmengine>=0.3.0->mmcv>=2.0.0) (2.8.2)\n",
            "Requirement already satisfied: markdown-it-py>=2.2.0 in /usr/local/lib/python3.10/dist-packages (from rich->mmengine>=0.3.0->mmcv>=2.0.0) (3.0.0)\n",
            "Requirement already satisfied: pygments<3.0.0,>=2.13.0 in /usr/local/lib/python3.10/dist-packages (from rich->mmengine>=0.3.0->mmcv>=2.0.0) (2.16.1)\n",
            "Requirement already satisfied: mdurl~=0.1 in /usr/local/lib/python3.10/dist-packages (from markdown-it-py>=2.2.0->rich->mmengine>=0.3.0->mmcv>=2.0.0) (0.1.2)\n",
            "Requirement already satisfied: six>=1.5 in /usr/local/lib/python3.10/dist-packages (from python-dateutil>=2.7->matplotlib->mmengine>=0.3.0->mmcv>=2.0.0) (1.16.0)\n",
            "Looking in links: https://download.openmmlab.com/mmcv/dist/cu118/torch2.0.0/index.html\n",
            "Requirement already satisfied: mmdet==3.0.0rc4 in /usr/local/lib/python3.10/dist-packages (3.0.0rc4)\n",
            "Requirement already satisfied: matplotlib in /usr/local/lib/python3.10/dist-packages (from mmdet==3.0.0rc4) (3.7.1)\n",
            "Requirement already satisfied: numpy in /usr/local/lib/python3.10/dist-packages (from mmdet==3.0.0rc4) (1.23.5)\n",
            "Requirement already satisfied: pycocotools in /usr/local/lib/python3.10/dist-packages (from mmdet==3.0.0rc4) (2.0.7)\n",
            "Requirement already satisfied: scipy in /usr/local/lib/python3.10/dist-packages (from mmdet==3.0.0rc4) (1.10.1)\n",
            "Requirement already satisfied: six in /usr/local/lib/python3.10/dist-packages (from mmdet==3.0.0rc4) (1.16.0)\n",
            "Requirement already satisfied: terminaltables in /usr/local/lib/python3.10/dist-packages (from mmdet==3.0.0rc4) (3.1.10)\n",
            "Requirement already satisfied: mmcv<2.1.0,>=2.0.0rc1 in /usr/local/lib/python3.10/dist-packages (from mmdet==3.0.0rc4) (2.0.1)\n",
            "Requirement already satisfied: mmengine<1.0.0,>=0.1.0 in /usr/local/lib/python3.10/dist-packages (from mmdet==3.0.0rc4) (0.8.4)\n",
            "Requirement already satisfied: addict in /usr/local/lib/python3.10/dist-packages (from mmcv<2.1.0,>=2.0.0rc1->mmdet==3.0.0rc4) (2.4.0)\n",
            "Requirement already satisfied: packaging in /usr/local/lib/python3.10/dist-packages (from mmcv<2.1.0,>=2.0.0rc1->mmdet==3.0.0rc4) (23.1)\n",
            "Requirement already satisfied: Pillow in /usr/local/lib/python3.10/dist-packages (from mmcv<2.1.0,>=2.0.0rc1->mmdet==3.0.0rc4) (9.4.0)\n",
            "Requirement already satisfied: pyyaml in /usr/local/lib/python3.10/dist-packages (from mmcv<2.1.0,>=2.0.0rc1->mmdet==3.0.0rc4) (6.0.1)\n",
            "Requirement already satisfied: yapf in /usr/local/lib/python3.10/dist-packages (from mmcv<2.1.0,>=2.0.0rc1->mmdet==3.0.0rc4) (0.40.1)\n",
            "Requirement already satisfied: opencv-python>=3 in /usr/local/lib/python3.10/dist-packages (from mmcv<2.1.0,>=2.0.0rc1->mmdet==3.0.0rc4) (4.8.0.76)\n",
            "Requirement already satisfied: rich in /usr/local/lib/python3.10/dist-packages (from mmengine<1.0.0,>=0.1.0->mmdet==3.0.0rc4) (13.4.2)\n",
            "Requirement already satisfied: termcolor in /usr/local/lib/python3.10/dist-packages (from mmengine<1.0.0,>=0.1.0->mmdet==3.0.0rc4) (2.3.0)\n",
            "Requirement already satisfied: contourpy>=1.0.1 in /usr/local/lib/python3.10/dist-packages (from matplotlib->mmdet==3.0.0rc4) (1.1.0)\n",
            "Requirement already satisfied: cycler>=0.10 in /usr/local/lib/python3.10/dist-packages (from matplotlib->mmdet==3.0.0rc4) (0.11.0)\n",
            "Requirement already satisfied: fonttools>=4.22.0 in /usr/local/lib/python3.10/dist-packages (from matplotlib->mmdet==3.0.0rc4) (4.42.1)\n",
            "Requirement already satisfied: kiwisolver>=1.0.1 in /usr/local/lib/python3.10/dist-packages (from matplotlib->mmdet==3.0.0rc4) (1.4.5)\n",
            "Requirement already satisfied: pyparsing>=2.3.1 in /usr/local/lib/python3.10/dist-packages (from matplotlib->mmdet==3.0.0rc4) (3.1.1)\n",
            "Requirement already satisfied: python-dateutil>=2.7 in /usr/local/lib/python3.10/dist-packages (from matplotlib->mmdet==3.0.0rc4) (2.8.2)\n",
            "Requirement already satisfied: markdown-it-py>=2.2.0 in /usr/local/lib/python3.10/dist-packages (from rich->mmengine<1.0.0,>=0.1.0->mmdet==3.0.0rc4) (3.0.0)\n",
            "Requirement already satisfied: pygments<3.0.0,>=2.13.0 in /usr/local/lib/python3.10/dist-packages (from rich->mmengine<1.0.0,>=0.1.0->mmdet==3.0.0rc4) (2.16.1)\n",
            "Requirement already satisfied: importlib-metadata>=6.6.0 in /usr/local/lib/python3.10/dist-packages (from yapf->mmcv<2.1.0,>=2.0.0rc1->mmdet==3.0.0rc4) (6.8.0)\n",
            "Requirement already satisfied: platformdirs>=3.5.1 in /usr/local/lib/python3.10/dist-packages (from yapf->mmcv<2.1.0,>=2.0.0rc1->mmdet==3.0.0rc4) (3.10.0)\n",
            "Requirement already satisfied: tomli>=2.0.1 in /usr/local/lib/python3.10/dist-packages (from yapf->mmcv<2.1.0,>=2.0.0rc1->mmdet==3.0.0rc4) (2.0.1)\n",
            "Requirement already satisfied: zipp>=0.5 in /usr/local/lib/python3.10/dist-packages (from importlib-metadata>=6.6.0->yapf->mmcv<2.1.0,>=2.0.0rc1->mmdet==3.0.0rc4) (3.16.2)\n",
            "Requirement already satisfied: mdurl~=0.1 in /usr/local/lib/python3.10/dist-packages (from markdown-it-py>=2.2.0->rich->mmengine<1.0.0,>=0.1.0->mmdet==3.0.0rc4) (0.1.2)\n"
          ]
        }
      ],
      "source": [
        "!pip install -U openmim\n",
        "!mim install mmengine\n",
        "!mim install \"mmcv>=2.0.0\"\n",
        "!mim install mmdet==3.0.0rc4"
      ]
    },
    {
      "cell_type": "code",
      "execution_count": 2,
      "metadata": {
        "colab": {
          "base_uri": "https://localhost:8080/"
        },
        "id": "UZc2qKp-V2U-",
        "outputId": "9880d808-619b-422e-a6bd-238038102274"
      },
      "outputs": [
        {
          "output_type": "stream",
          "name": "stdout",
          "text": [
            "Requirement already satisfied: mmsegmentation>=1.0.0 in /usr/local/lib/python3.10/dist-packages (1.1.1)\n",
            "Requirement already satisfied: matplotlib in /usr/local/lib/python3.10/dist-packages (from mmsegmentation>=1.0.0) (3.7.1)\n",
            "Requirement already satisfied: numpy in /usr/local/lib/python3.10/dist-packages (from mmsegmentation>=1.0.0) (1.23.5)\n",
            "Requirement already satisfied: packaging in /usr/local/lib/python3.10/dist-packages (from mmsegmentation>=1.0.0) (23.1)\n",
            "Requirement already satisfied: prettytable in /usr/local/lib/python3.10/dist-packages (from mmsegmentation>=1.0.0) (3.8.0)\n",
            "Requirement already satisfied: scipy in /usr/local/lib/python3.10/dist-packages (from mmsegmentation>=1.0.0) (1.10.1)\n",
            "Requirement already satisfied: contourpy>=1.0.1 in /usr/local/lib/python3.10/dist-packages (from matplotlib->mmsegmentation>=1.0.0) (1.1.0)\n",
            "Requirement already satisfied: cycler>=0.10 in /usr/local/lib/python3.10/dist-packages (from matplotlib->mmsegmentation>=1.0.0) (0.11.0)\n",
            "Requirement already satisfied: fonttools>=4.22.0 in /usr/local/lib/python3.10/dist-packages (from matplotlib->mmsegmentation>=1.0.0) (4.42.1)\n",
            "Requirement already satisfied: kiwisolver>=1.0.1 in /usr/local/lib/python3.10/dist-packages (from matplotlib->mmsegmentation>=1.0.0) (1.4.5)\n",
            "Requirement already satisfied: pillow>=6.2.0 in /usr/local/lib/python3.10/dist-packages (from matplotlib->mmsegmentation>=1.0.0) (9.4.0)\n",
            "Requirement already satisfied: pyparsing>=2.3.1 in /usr/local/lib/python3.10/dist-packages (from matplotlib->mmsegmentation>=1.0.0) (3.1.1)\n",
            "Requirement already satisfied: python-dateutil>=2.7 in /usr/local/lib/python3.10/dist-packages (from matplotlib->mmsegmentation>=1.0.0) (2.8.2)\n",
            "Requirement already satisfied: wcwidth in /usr/local/lib/python3.10/dist-packages (from prettytable->mmsegmentation>=1.0.0) (0.2.6)\n",
            "Requirement already satisfied: six>=1.5 in /usr/local/lib/python3.10/dist-packages (from python-dateutil>=2.7->matplotlib->mmsegmentation>=1.0.0) (1.16.0)\n"
          ]
        }
      ],
      "source": [
        "!pip install \"mmsegmentation>=1.0.0\""
      ]
    },
    {
      "cell_type": "code",
      "execution_count": 3,
      "metadata": {
        "colab": {
          "base_uri": "https://localhost:8080/"
        },
        "id": "SvnlWZJ8EXTW",
        "outputId": "04a2999c-abc8-43ce-f5b9-f0dbc73a220c"
      },
      "outputs": [
        {
          "output_type": "stream",
          "name": "stdout",
          "text": [
            "Reading package lists... Done\n",
            "Building dependency tree... Done\n",
            "Reading state information... Done\n",
            "imagemagick is already the newest version (8:6.9.11.60+dfsg-1.3ubuntu0.22.04.3).\n",
            "imagemagick-doc is already the newest version (8:6.9.11.60+dfsg-1.3ubuntu0.22.04.3).\n",
            "0 upgraded, 0 newly installed, 0 to remove and 16 not upgraded.\n"
          ]
        }
      ],
      "source": [
        "!apt-get install imagemagick imagemagick-doc"
      ]
    },
    {
      "cell_type": "code",
      "execution_count": 4,
      "metadata": {
        "id": "L1LJ4sGfq83Z"
      },
      "outputs": [],
      "source": [
        "import os\n",
        "import cv2\n",
        "import math\n",
        "import time\n",
        "import subprocess\n",
        "import numpy as np\n",
        "import tensorflow as tf\n",
        "from PIL import Image\n",
        "import matplotlib.pyplot as plt\n",
        "import progressbar\n",
        "\n",
        "import mmcv\n",
        "from mmseg.apis import inference_model, init_model, show_result_pyplot"
      ]
    },
    {
      "cell_type": "code",
      "source": [
        "import logging\n",
        "logger = logging.getLogger()\n",
        "logger.setLevel(logging.INFO)"
      ],
      "metadata": {
        "id": "nGB5pZLWzrIg"
      },
      "execution_count": 5,
      "outputs": []
    },
    {
      "cell_type": "code",
      "source": [
        "from google.colab import drive\n",
        "drive.mount('/gdrive')\n",
        "drive_root = '/gdrive/MyDrive/mmseg/'"
      ],
      "metadata": {
        "colab": {
          "base_uri": "https://localhost:8080/"
        },
        "id": "yIIIb-M1yW_E",
        "outputId": "02f5f1f9-036a-41c1-f21d-95aa4d390e70"
      },
      "execution_count": 6,
      "outputs": [
        {
          "output_type": "stream",
          "name": "stdout",
          "text": [
            "Drive already mounted at /gdrive; to attempt to forcibly remount, call drive.mount(\"/gdrive\", force_remount=True).\n"
          ]
        }
      ]
    },
    {
      "cell_type": "markdown",
      "source": [
        "## 2. Define the paths\n",
        "##### Just change the path according to you system"
      ],
      "metadata": {
        "id": "DIU-cMncyevF"
      }
    },
    {
      "cell_type": "code",
      "execution_count": 7,
      "metadata": {
        "id": "g4UxY3fI9Viv"
      },
      "outputs": [],
      "source": [
        "GT_DIR = drive_root + 'data/cityscapes/gtFine/'\n",
        "IMG_DIR = drive_root + 'data/cityscapes/leftImg8bit/'\n",
        "config_file = drive_root + 'configs/config.py'\n",
        "checkpoint_file = drive_root + 'configs/checkpoints.pth'"
      ]
    },
    {
      "cell_type": "markdown",
      "source": [
        "## 3. Helper functions"
      ],
      "metadata": {
        "id": "Hy8dLsrtzAls"
      }
    },
    {
      "cell_type": "code",
      "execution_count": 8,
      "metadata": {
        "id": "kGyxXmqFtEkL"
      },
      "outputs": [],
      "source": [
        "# Define the widgets for the progress bar\n",
        "def show_process_bar(topic):\n",
        "    widgets = ['[', progressbar.Timer(format= f'{topic}: %(elapsed)s'), '] ',\n",
        "        progressbar.Bar('*'),' (', progressbar.ETA(), ') ']\n",
        "\n",
        "    # Create a progress bar with a maximum value of 100 and the defined widgets\n",
        "    bar = progressbar.ProgressBar(max_value=100,widgets=widgets)\n",
        "    return bar"
      ]
    },
    {
      "cell_type": "code",
      "execution_count": 9,
      "metadata": {
        "id": "P5Bob_HPVFSn"
      },
      "outputs": [],
      "source": [
        "# Converts PNG images to JPG format in the specified folder and its subfolders.\n",
        "def convert_png_to_jpg(root_folder, quality=100):\n",
        "    for root, _, _ in os.walk(root_folder):\n",
        "        # Use the mogrify command to convert PNG to JPG\n",
        "        logging.info(f'Converting the images from png to img ({root})')\n",
        "        subprocess.run('mogrify -format jpg -set filename:name %t -write %[filename:name]_100.jpg *.png', cwd=root, shell=True)"
      ]
    },
    {
      "cell_type": "code",
      "execution_count": 10,
      "metadata": {
        "id": "BSIVLAGQGZ6p"
      },
      "outputs": [],
      "source": [
        "# Reduces the quality of JPEG images in the specified folder and its subfolders.\n",
        "def reduce_quality(root_folder, quality):\n",
        "    for root, _, _ in os.walk(root_folder):\n",
        "        # Use the mogrify command to reduce the quality of JPEG images\n",
        "        logging.info(f'Converting the images from png to img ({root})')\n",
        "        subprocess.run(f'mogrify -quality {quality} -set filename:name %t -write %[filename:name]_{quality}.jpg *_100.jpg', cwd=root, shell=True)"
      ]
    },
    {
      "cell_type": "code",
      "execution_count": 11,
      "metadata": {
        "id": "WYKlFsNpFfRk"
      },
      "outputs": [],
      "source": [
        "# Recursively retrieves paths to image files in the specified directory and its subdirectories.\n",
        "def get_image_paths(root_dir, ends_with):\n",
        "    image_paths = []\n",
        "    for item in os.listdir(root_dir):\n",
        "        item_path = os.path.join(root_dir, item)\n",
        "        if os.path.isdir(item_path):\n",
        "            image_paths.extend(get_image_paths(item_path, ends_with))\n",
        "        elif item.lower().endswith(ends_with):\n",
        "            image_paths.append(item_path)\n",
        "    return sorted(image_paths)"
      ]
    },
    {
      "cell_type": "code",
      "execution_count": 12,
      "metadata": {
        "id": "1Px3c4ztVDtP"
      },
      "outputs": [],
      "source": [
        "# Calculate IoU from predicted image and true mask\n",
        "def calculate_iou(pred_mask, true_mask):\n",
        "    intersection = np.logical_and(pred_mask, true_mask)\n",
        "    union = np.logical_or(pred_mask, true_mask)\n",
        "    iou_score = np.sum(intersection) / np.sum(union)\n",
        "    return iou_score"
      ]
    },
    {
      "cell_type": "code",
      "execution_count": 13,
      "metadata": {
        "id": "mAlsEw9pDaMP"
      },
      "outputs": [],
      "source": [
        "# Save the predicted images to specific folder\n",
        "def save_images(folder_name, imgs, val_gt_images):\n",
        "    for i, img in enumerate(imgs):\n",
        "        image_path = val_gt_images[i].replace('gtFine/', folder_name)\n",
        "        image = Image.fromarray(img)\n",
        "\n",
        "        directory = os.path.dirname(image_path)\n",
        "        os.makedirs(directory, exist_ok=True)\n",
        "\n",
        "        # Save the image as a PNG file (or any other supported format)\n",
        "        # print(image_path)\n",
        "        image.save(image_path)"
      ]
    },
    {
      "cell_type": "code",
      "source": [
        "def load_and_preprocess_image(path):\n",
        "    img = tf.io.read_file(path)\n",
        "    img = tf.image.decode_jpeg(img, channels=3)\n",
        "    img = tf.cast(img, tf.float32)  # Convert to float32\n",
        "    img /= 255.0\n",
        "    return img"
      ],
      "metadata": {
        "id": "9uaeDsdKHrq0"
      },
      "execution_count": 14,
      "outputs": []
    },
    {
      "cell_type": "markdown",
      "source": [
        "## 3. Pre-processing of the images"
      ],
      "metadata": {
        "id": "pY7nLNDa5lDJ"
      }
    },
    {
      "cell_type": "code",
      "source": [
        "# Convert the images from png to jpg\n",
        "convert_png_to_jpg(IMG_DIR+'val/')"
      ],
      "metadata": {
        "colab": {
          "base_uri": "https://localhost:8080/"
        },
        "id": "iiI3F-O45h5H",
        "outputId": "99af5568-0876-4339-ddac-77d2d5152d8f"
      },
      "execution_count": 15,
      "outputs": [
        {
          "output_type": "stream",
          "name": "stderr",
          "text": [
            "INFO:root:Converting the images from png to img (/gdrive/MyDrive/mmseg/data/cityscapes/leftImg8bit/val/)\n",
            "INFO:root:Converting the images from png to img (/gdrive/MyDrive/mmseg/data/cityscapes/leftImg8bit/val/frankfurt)\n",
            "INFO:root:Converting the images from png to img (/gdrive/MyDrive/mmseg/data/cityscapes/leftImg8bit/val/munster)\n",
            "INFO:root:Converting the images from png to img (/gdrive/MyDrive/mmseg/data/cityscapes/leftImg8bit/val/lindau)\n"
          ]
        }
      ]
    },
    {
      "cell_type": "code",
      "source": [
        "# Reduce the quality of images to 75% and 25%\n",
        "reduce_quality(IMG_DIR+'val/', quality=75)\n",
        "reduce_quality(IMG_DIR+'val/', quality=25)"
      ],
      "metadata": {
        "colab": {
          "base_uri": "https://localhost:8080/"
        },
        "id": "B-4jpkh56X80",
        "outputId": "0df4ee45-aa25-4b82-ce39-daedf371064d"
      },
      "execution_count": 16,
      "outputs": [
        {
          "output_type": "stream",
          "name": "stderr",
          "text": [
            "INFO:root:Converting the images from png to img (/gdrive/MyDrive/mmseg/data/cityscapes/leftImg8bit/val/)\n",
            "INFO:root:Converting the images from png to img (/gdrive/MyDrive/mmseg/data/cityscapes/leftImg8bit/val/frankfurt)\n",
            "INFO:root:Converting the images from png to img (/gdrive/MyDrive/mmseg/data/cityscapes/leftImg8bit/val/munster)\n",
            "INFO:root:Converting the images from png to img (/gdrive/MyDrive/mmseg/data/cityscapes/leftImg8bit/val/lindau)\n",
            "INFO:root:Converting the images from png to img (/gdrive/MyDrive/mmseg/data/cityscapes/leftImg8bit/val/)\n",
            "INFO:root:Converting the images from png to img (/gdrive/MyDrive/mmseg/data/cityscapes/leftImg8bit/val/frankfurt)\n",
            "INFO:root:Converting the images from png to img (/gdrive/MyDrive/mmseg/data/cityscapes/leftImg8bit/val/munster)\n",
            "INFO:root:Converting the images from png to img (/gdrive/MyDrive/mmseg/data/cityscapes/leftImg8bit/val/lindau)\n"
          ]
        }
      ]
    },
    {
      "cell_type": "code",
      "source": [
        "# get all the path of validation images\n",
        "val_gt_images = get_image_paths(GT_DIR + 'val/', '_gtFine_color.png'.lower())"
      ],
      "metadata": {
        "id": "BFhyCtY78gks"
      },
      "execution_count": 17,
      "outputs": []
    },
    {
      "cell_type": "code",
      "source": [
        "# get path of all the images\n",
        "val_images_100 = get_image_paths(IMG_DIR + 'val/', '_100.jpg'.lower())\n",
        "val_images_75 = get_image_paths(IMG_DIR + 'val/', '_75.jpg'.lower())\n",
        "val_images_25 = get_image_paths(IMG_DIR + 'val/', '_25.jpg'.lower())"
      ],
      "metadata": {
        "id": "YaP8Z4ba9Bi_"
      },
      "execution_count": 18,
      "outputs": []
    },
    {
      "cell_type": "markdown",
      "metadata": {
        "id": "yVo2Bjf_asic"
      },
      "source": [
        "## 4. Model Loading, Training & Evaluation"
      ]
    },
    {
      "cell_type": "code",
      "source": [
        "def predict(model, imgs, folder_name):\n",
        "    # Create a progress bar for tracking image processing progress\n",
        "    process_bar = show_process_bar('Processed Images').start()\n",
        "\n",
        "    # Initialize lists to store IoU values and predicted images\n",
        "    IoUs = []\n",
        "    pred_images = []\n",
        "\n",
        "    # Calculate the total number of images to process\n",
        "    total_images = len(imgs)\n",
        "\n",
        "    # Initialize a variable to keep track of processed images\n",
        "    image_processed = 0\n",
        "\n",
        "    # Iterate through pairs of input images and ground truth images\n",
        "    for index, (img, val_img) in enumerate(zip(imgs, val_gt_images)):\n",
        "        # Update the progress bar\n",
        "        process_bar.update(math.floor(index * 100 / total_images))\n",
        "\n",
        "        # Perform inference using the model\n",
        "        result = inference_model(model, img)\n",
        "\n",
        "        # Generate a predicted mask from the inference result\n",
        "        pred_mask = show_result_pyplot(model, imgs[0], result, opacity=1)\n",
        "        true_mask = np.array(Image.open(val_img))[:, :, :-1]\n",
        "\n",
        "        # Calculate Intersection over Union (IoU) and store it\n",
        "        IoUs.append(calculate_iou(pred_mask, true_mask))\n",
        "\n",
        "        # Append the predicted mask to the list\n",
        "        pred_images.append(pred_mask)\n",
        "\n",
        "        # Save predicted images in chunks of 50\n",
        "        if len(pred_images) % 50 == 0:\n",
        "            save_images(folder_name, pred_images, val_gt_images[image_processed: image_processed + 50])\n",
        "            image_processed += 50\n",
        "            pred_images = []\n",
        "\n",
        "    # Save any remaining images\n",
        "    if len(pred_images) > 0:\n",
        "        save_images(folder_name, pred_images, val_gt_images[image_processed:])\n",
        "\n",
        "    # Return the IoU values\n",
        "    return IoUs\n"
      ],
      "metadata": {
        "id": "Teyzr7Po2lSd"
      },
      "execution_count": 20,
      "outputs": []
    },
    {
      "cell_type": "code",
      "source": [
        "# build the model from a config file and a checkpoint file\n",
        "model = init_model(config_file, checkpoint_file, device='cuda:0')"
      ],
      "metadata": {
        "colab": {
          "base_uri": "https://localhost:8080/"
        },
        "id": "nJrTSe-by9Om",
        "outputId": "c36a2a0a-ed61-4158-8781-78c90393b152"
      },
      "execution_count": 21,
      "outputs": [
        {
          "output_type": "stream",
          "name": "stderr",
          "text": [
            "/usr/local/lib/python3.10/dist-packages/mmseg/models/builder.py:36: UserWarning: ``build_loss`` would be deprecated soon, please use ``mmseg.registry.MODELS.build()`` \n",
            "  warnings.warn('``build_loss`` would be deprecated soon, please use '\n",
            "/usr/local/lib/python3.10/dist-packages/mmseg/models/losses/cross_entropy_loss.py:235: UserWarning: Default ``avg_non_ignore`` is False, if you would like to ignore the certain label and average loss over non-ignore labels, which is the same with PyTorch official cross_entropy, set ``avg_non_ignore=True``.\n",
            "  warnings.warn(\n"
          ]
        },
        {
          "output_type": "stream",
          "name": "stdout",
          "text": [
            "Loads checkpoint by local backend from path: /gdrive/MyDrive/mmseg/configs/checkpoints.pth\n"
          ]
        }
      ]
    },
    {
      "cell_type": "code",
      "execution_count": 22,
      "metadata": {
        "id": "6Qgtn87ZQN6Q",
        "colab": {
          "base_uri": "https://localhost:8080/"
        },
        "outputId": "5ad231bf-2842-4043-f40e-fc997f3b2ab4"
      },
      "outputs": [
        {
          "output_type": "stream",
          "name": "stderr",
          "text": [
            "INFO:root:Processing stared for validation images with 100% quality...\n",
            "[Processed Images: 0:00:00] |                               | (ETA:  --:--:--) /usr/local/lib/python3.10/dist-packages/mmengine/visualization/visualizer.py:196: UserWarning: Failed to add <class 'mmengine.visualization.vis_backend.LocalVisBackend'>, please provide the `save_dir` argument.\n",
            "  warnings.warn(f'Failed to add {vis_backend.__class__}, '\n",
            "[Processed Images: 0:15:11] |****************************** | (ETA:   0:00:09) INFO:root:mIoU for 100% quality images is : 0.8872493960083153\n"
          ]
        }
      ],
      "source": [
        "logging.info('Processing stared for validation images with 100% quality...')\n",
        "IoU_100 = predict(model, val_images_100, 'gtFine_100/')\n",
        "mIoU_100 = sum(IoU_100)/len(val_images_100)\n",
        "logging.info(f'mIoU for 100% quality images is : {mIoU_100}')"
      ]
    },
    {
      "cell_type": "code",
      "execution_count": 23,
      "metadata": {
        "id": "pPjSEShwQN6Q",
        "colab": {
          "base_uri": "https://localhost:8080/"
        },
        "outputId": "0bcd0033-e27d-4ab9-e793-1aa8f4da0bf5"
      },
      "outputs": [
        {
          "output_type": "stream",
          "name": "stderr",
          "text": [
            "INFO:root:Processing stared for validation images with 75% quality...\n",
            "[Processed Images: 0:11:37] |****************************** | (ETA:   0:00:07) INFO:root:mIoU for 75% quality images is : 0.8865797383021564\n"
          ]
        }
      ],
      "source": [
        "logging.info('Processing stared for validation images with 75% quality...')\n",
        "IoU_75 = predict(model, val_images_75, 'gtFine_75')\n",
        "mIoU_75 = sum(IoU_75)/len(val_images_75)\n",
        "logging.info(f'mIoU for 75% quality images is : {mIoU_75}')"
      ]
    },
    {
      "cell_type": "code",
      "execution_count": 24,
      "metadata": {
        "id": "cvqhDqugQN6Q",
        "colab": {
          "base_uri": "https://localhost:8080/"
        },
        "outputId": "caede1c2-f558-42e6-82c2-eac29c8d945e"
      },
      "outputs": [
        {
          "output_type": "stream",
          "name": "stderr",
          "text": [
            "INFO:root:Processing stared for validation images with 25% quality...\n",
            "[Processed Images: 0:11:35] |****************************** | (ETA:   0:00:07) INFO:root:mIoU for 25% quality images is : 0.8702458304208128\n"
          ]
        }
      ],
      "source": [
        "logging.info('Processing stared for validation images with 25% quality...')\n",
        "IoU_25 = predict(model, val_images_25, 'gtFine_25')\n",
        "mIoU_25 = sum(IoU_25)/len(val_images_25)\n",
        "logging.info(f'mIoU for 25% quality images is : {mIoU_25}')\n"
      ]
    },
    {
      "cell_type": "markdown",
      "source": [
        "## 5. Plot the graphs from mIoU"
      ],
      "metadata": {
        "id": "HwACWd_6flAV"
      }
    },
    {
      "cell_type": "code",
      "execution_count": 25,
      "metadata": {
        "id": "Uh6oS1x5wWoE",
        "colab": {
          "base_uri": "https://localhost:8080/",
          "height": 607
        },
        "outputId": "13f7824c-a1c5-49d7-824c-64a223358546"
      },
      "outputs": [
        {
          "output_type": "display_data",
          "data": {
            "text/plain": [
              "<Figure size 800x600 with 1 Axes>"
            ],
            "image/png": "[encoded data removed]"
          },
          "metadata": {}
        }
      ],
      "source": [
        "import matplotlib.pyplot as plt\n",
        "\n",
        "# Define the dataset names and their corresponding mIoU values\n",
        "datasets = ['100% Quality', '75% Quality', '25% Quality']\n",
        "miou_values = [mIoU_100, mIoU_75, mIoU_25]  # Replace with your actual mIoU values\n",
        "\n",
        "# Create a bar plot for mIoU values\n",
        "plt.figure(figsize=(8, 6))\n",
        "plt.bar(datasets, miou_values, color=['blue', 'green', 'red'])\n",
        "plt.xlabel('Datasets')\n",
        "plt.ylabel('mIoU')\n",
        "plt.title('mIoU Comparison for Different Datasets')\n",
        "plt.ylim(0, 1.0)  # Set the y-axis limits between 0 and 1 (since mIoU ranges from 0 to 1)\n",
        "plt.grid(axis='y', linestyle='--', alpha=0.7)\n",
        "\n",
        "# Display mIoU values above the bars\n",
        "for i, miou in enumerate(miou_values):\n",
        "    plt.text(i, miou + 0.02, f'{miou:.2f}', ha='center', va='bottom', fontsize=12, color='black')\n",
        "\n",
        "# Show the plot\n",
        "plt.tight_layout()\n",
        "plt.show()"
      ]
    },
    {
      "cell_type": "markdown",
      "source": [
        "## Bonus Task"
      ],
      "metadata": {
        "id": "vwh8oXlRQ7Fw"
      }
    },
    {
      "cell_type": "code",
      "source": [
        "# train data\n",
        "im_train_ds = tf.data.Dataset.from_tensor_slices(get_image_paths(IMG_DIR+'train/', '_100.jpg'))\n",
        "im_train_ds = im_train_ds.map(load_and_preprocess_image)\n",
        "\n",
        "# Validation data\n",
        "im_val_ds = tf.data.Dataset.from_tensor_slices(get_image_paths(IMG_DIR+'val/', '_100.jpg'))\n",
        "im_val_ds = im_val_ds.map(load_and_preprocess_image)\n",
        "\n",
        "# test data\n",
        "im_test_ds = tf.data.Dataset.from_tensor_slices(get_image_paths(IMG_DIR+'test/', '_100.jpg'))\n",
        "im_test_ds = im_test_ds.map(load_and_preprocess_image)"
      ],
      "metadata": {
        "id": "QEIOBTq-MDjs"
      },
      "execution_count": 26,
      "outputs": []
    },
    {
      "cell_type": "code",
      "source": [
        "# load model from checkpoints\n",
        "from mmseg.apis import init_model\n",
        "\n",
        "# Initialize the segmentor\n",
        "model = init_model(config_file, checkpoint_file, device='cuda:0')  # Use 'cpu' if you want to load the model on the CPU"
      ],
      "metadata": {
        "id": "7NUInOKDMvqK",
        "colab": {
          "base_uri": "https://localhost:8080/"
        },
        "outputId": "c9bfdc1e-e526-473d-93ff-ddc121a4e542"
      },
      "execution_count": 27,
      "outputs": [
        {
          "output_type": "stream",
          "name": "stdout",
          "text": [
            "Loads checkpoint by local backend from path: /gdrive/MyDrive/mmseg/configs/checkpoints.pth\n"
          ]
        }
      ]
    },
    {
      "cell_type": "code",
      "source": [
        "!python {drive_root}/tools/train.py {drive_root}/configs/config.py"
      ],
      "metadata": {
        "id": "ryjmJZMlNkHW",
        "colab": {
          "base_uri": "https://localhost:8080/"
        },
        "outputId": "4a4bfb64-32f3-437b-99df-52cff659eef7"
      },
      "execution_count": 29,
      "outputs": [
        {
          "output_type": "stream",
          "name": "stdout",
          "text": [
            "09/07 20:08:45 - mmengine - \u001b[4m\u001b[97mINFO\u001b[0m - \n",
            "------------------------------------------------------------\n",
            "System environment:\n",
            "    sys.platform: linux\n",
            "    Python: 3.10.12 (main, Jun 11 2023, 05:26:28) [GCC 11.4.0]\n",
            "    CUDA available: True\n",
            "    numpy_random_seed: 1409389196\n",
            "    GPU 0: Tesla T4\n",
            "    CUDA_HOME: /usr/local/cuda\n",
            "    NVCC: Cuda compilation tools, release 11.8, V11.8.89\n",
            "    GCC: x86_64-linux-gnu-gcc (Ubuntu 11.4.0-1ubuntu1~22.04) 11.4.0\n",
            "    PyTorch: 2.0.1+cu118\n",
            "    PyTorch compiling details: PyTorch built with:\n",
            "  - GCC 9.3\n",
            "  - C++ Version: 201703\n",
            "  - Intel(R) oneAPI Math Kernel Library Version 2022.2-Product Build 20220804 for Intel(R) 64 architecture applications\n",
            "  - Intel(R) MKL-DNN v2.7.3 (Git Hash 6dbeffbae1f23cbbeae17adb7b5b13f1f37c080e)\n",
            "  - OpenMP 201511 (a.k.a. OpenMP 4.5)\n",
            "  - LAPACK is enabled (usually provided by MKL)\n",
            "  - NNPACK is enabled\n",
            "  - CPU capability usage: AVX2\n",
            "  - CUDA Runtime 11.8\n",
            "  - NVCC architecture flags: -gencode;arch=compute_37,code=sm_37;-gencode;arch=compute_50,code=sm_50;-gencode;arch=compute_60,code=sm_60;-gencode;arch=compute_70,code=sm_70;-gencode;arch=compute_75,code=sm_75;-gencode;arch=compute_80,code=sm_80;-gencode;arch=compute_86,code=sm_86;-gencode;arch=compute_90,code=sm_90\n",
            "  - CuDNN 8.7\n",
            "  - Magma 2.6.1\n",
            "  - Build settings: BLAS_INFO=mkl, BUILD_TYPE=Release, CUDA_VERSION=11.8, CUDNN_VERSION=8.7.0, CXX_COMPILER=/opt/rh/devtoolset-9/root/usr/bin/c++, CXX_FLAGS= -D_GLIBCXX_USE_CXX11_ABI=0 -fabi-version=11 -Wno-deprecated -fvisibility-inlines-hidden -DUSE_PTHREADPOOL -DNDEBUG -DUSE_KINETO -DLIBKINETO_NOROCTRACER -DUSE_FBGEMM -DUSE_QNNPACK -DUSE_PYTORCH_QNNPACK -DUSE_XNNPACK -DSYMBOLICATE_MOBILE_DEBUG_HANDLE -O2 -fPIC -Wall -Wextra -Werror=return-type -Werror=non-virtual-dtor -Werror=bool-operation -Wnarrowing -Wno-missing-field-initializers -Wno-type-limits -Wno-array-bounds -Wno-unknown-pragmas -Wunused-local-typedefs -Wno-unused-parameter -Wno-unused-function -Wno-unused-result -Wno-strict-overflow -Wno-strict-aliasing -Wno-error=deprecated-declarations -Wno-stringop-overflow -Wno-psabi -Wno-error=pedantic -Wno-error=redundant-decls -Wno-error=old-style-cast -fdiagnostics-color=always -faligned-new -Wno-unused-but-set-variable -Wno-maybe-uninitialized -fno-math-errno -fno-trapping-math -Werror=format -Werror=cast-function-type -Wno-stringop-overflow, LAPACK_INFO=mkl, PERF_WITH_AVX=1, PERF_WITH_AVX2=1, PERF_WITH_AVX512=1, TORCH_DISABLE_GPU_ASSERTS=ON, TORCH_VERSION=2.0.1, USE_CUDA=ON, USE_CUDNN=ON, USE_EXCEPTION_PTR=1, USE_GFLAGS=OFF, USE_GLOG=OFF, USE_MKL=ON, USE_MKLDNN=ON, USE_MPI=OFF, USE_NCCL=1, USE_NNPACK=ON, USE_OPENMP=ON, USE_ROCM=OFF, \n",
            "\n",
            "    TorchVision: 0.15.2+cu118\n",
            "    OpenCV: 4.8.0\n",
            "    MMEngine: 0.8.4\n",
            "\n",
            "Runtime environment:\n",
            "    cudnn_benchmark: True\n",
            "    dist_cfg: {'backend': 'nccl'}\n",
            "    mp_cfg: {'mp_start_method': 'fork', 'opencv_num_threads': 0}\n",
            "    seed: 1409389196\n",
            "    Distributed launcher: none\n",
            "    Distributed training: False\n",
            "    GPU number: 1\n",
            "------------------------------------------------------------\n",
            "\n",
            "09/07 20:08:46 - mmengine - \u001b[4m\u001b[97mINFO\u001b[0m - Config:\n",
            "crop_size = (\n",
            "    512,\n",
            "    1024,\n",
            ")\n",
            "data_preprocessor = dict(\n",
            "    bgr_to_rgb=True,\n",
            "    mean=[\n",
            "        123.675,\n",
            "        116.28,\n",
            "        103.53,\n",
            "    ],\n",
            "    pad_val=0,\n",
            "    seg_pad_val=255,\n",
            "    size=(\n",
            "        512,\n",
            "        1024,\n",
            "    ),\n",
            "    std=[\n",
            "        58.395,\n",
            "        57.12,\n",
            "        57.375,\n",
            "    ],\n",
            "    type='SegDataPreProcessor')\n",
            "data_root = '/gdrive/MyDrive/mmseg/data/cityscapes/'\n",
            "dataset_type = 'CityscapesDataset'\n",
            "default_hooks = dict(\n",
            "    checkpoint=dict(by_epoch=False, interval=4000, type='CheckpointHook'),\n",
            "    logger=dict(interval=50, log_metric_by_epoch=False, type='LoggerHook'),\n",
            "    param_scheduler=dict(type='ParamSchedulerHook'),\n",
            "    sampler_seed=dict(type='DistSamplerSeedHook'),\n",
            "    timer=dict(type='IterTimerHook'),\n",
            "    visualization=dict(type='SegVisualizationHook'))\n",
            "default_scope = 'mmseg'\n",
            "drive_root = '/gdrive/MyDrive/mmseg/'\n",
            "env_cfg = dict(\n",
            "    cudnn_benchmark=True,\n",
            "    dist_cfg=dict(backend='nccl'),\n",
            "    mp_cfg=dict(mp_start_method='fork', opencv_num_threads=0))\n",
            "img_ratios = [\n",
            "    0.5,\n",
            "    0.75,\n",
            "    1.0,\n",
            "    1.25,\n",
            "    1.5,\n",
            "    1.75,\n",
            "]\n",
            "launcher = 'none'\n",
            "load_from = None\n",
            "log_level = 'INFO'\n",
            "log_processor = dict(by_epoch=False)\n",
            "model = dict(\n",
            "    auxiliary_head=dict(\n",
            "        align_corners=False,\n",
            "        channels=256,\n",
            "        concat_input=False,\n",
            "        dropout_ratio=0.1,\n",
            "        in_channels=1024,\n",
            "        in_index=2,\n",
            "        loss_decode=dict(\n",
            "            loss_weight=0.4, type='CrossEntropyLoss', use_sigmoid=False),\n",
            "        norm_cfg=dict(requires_grad=True, type='SyncBN'),\n",
            "        num_classes=19,\n",
            "        num_convs=1,\n",
            "        type='FCNHead'),\n",
            "    backbone=dict(\n",
            "        contract_dilation=True,\n",
            "        depth=50,\n",
            "        dilations=(\n",
            "            1,\n",
            "            1,\n",
            "            2,\n",
            "            4,\n",
            "        ),\n",
            "        norm_cfg=dict(requires_grad=True, type='SyncBN'),\n",
            "        norm_eval=False,\n",
            "        num_stages=4,\n",
            "        out_indices=(\n",
            "            0,\n",
            "            1,\n",
            "            2,\n",
            "            3,\n",
            "        ),\n",
            "        strides=(\n",
            "            1,\n",
            "            2,\n",
            "            1,\n",
            "            1,\n",
            "        ),\n",
            "        style='pytorch',\n",
            "        type='ResNetV1c'),\n",
            "    data_preprocessor=dict(\n",
            "        bgr_to_rgb=True,\n",
            "        mean=[\n",
            "            123.675,\n",
            "            116.28,\n",
            "            103.53,\n",
            "        ],\n",
            "        pad_val=0,\n",
            "        seg_pad_val=255,\n",
            "        size=(\n",
            "            512,\n",
            "            1024,\n",
            "        ),\n",
            "        std=[\n",
            "            58.395,\n",
            "            57.12,\n",
            "            57.375,\n",
            "        ],\n",
            "        type='SegDataPreProcessor'),\n",
            "    decode_head=dict(\n",
            "        align_corners=False,\n",
            "        channels=512,\n",
            "        dropout_ratio=0.1,\n",
            "        in_channels=2048,\n",
            "        in_index=3,\n",
            "        loss_decode=dict(\n",
            "            loss_weight=1.0, type='CrossEntropyLoss', use_sigmoid=False),\n",
            "        norm_cfg=dict(requires_grad=True, type='SyncBN'),\n",
            "        num_classes=19,\n",
            "        pool_scales=(\n",
            "            1,\n",
            "            2,\n",
            "            3,\n",
            "            6,\n",
            "        ),\n",
            "        type='PSPHead'),\n",
            "    pretrained='open-mmlab://resnet50_v1c',\n",
            "    test_cfg=dict(mode='whole'),\n",
            "    train_cfg=dict(),\n",
            "    type='EncoderDecoder')\n",
            "norm_cfg = dict(requires_grad=True, type='SyncBN')\n",
            "optim_wrapper = dict(\n",
            "    clip_grad=None,\n",
            "    optimizer=dict(lr=0.01, momentum=0.9, type='SGD', weight_decay=0.0005),\n",
            "    type='OptimWrapper')\n",
            "optimizer = dict(lr=0.01, momentum=0.9, type='SGD', weight_decay=0.0005)\n",
            "param_scheduler = [\n",
            "    dict(\n",
            "        begin=0,\n",
            "        by_epoch=False,\n",
            "        end=40000,\n",
            "        eta_min=0.0001,\n",
            "        power=0.9,\n",
            "        type='PolyLR'),\n",
            "]\n",
            "resume = False\n",
            "test_cfg = dict(type='TestLoop')\n",
            "test_dataloader = dict(\n",
            "    batch_size=1,\n",
            "    dataset=dict(\n",
            "        data_prefix=dict(\n",
            "            img_path='leftImg8bit/val', seg_map_path='gtFine/val'),\n",
            "        data_root='/gdrive/MyDrive/mmseg/data/cityscapes/',\n",
            "        pipeline=[\n",
            "            dict(type='LoadImageFromFile'),\n",
            "            dict(keep_ratio=True, scale=(\n",
            "                2048,\n",
            "                1024,\n",
            "            ), type='Resize'),\n",
            "            dict(type='LoadAnnotations'),\n",
            "            dict(type='PackSegInputs'),\n",
            "        ],\n",
            "        type='CityscapesDataset'),\n",
            "    num_workers=4,\n",
            "    persistent_workers=True,\n",
            "    sampler=dict(shuffle=False, type='DefaultSampler'))\n",
            "test_evaluator = dict(\n",
            "    iou_metrics=[\n",
            "        'mIoU',\n",
            "    ], type='IoUMetric')\n",
            "test_pipeline = [\n",
            "    dict(type='LoadImageFromFile'),\n",
            "    dict(keep_ratio=True, scale=(\n",
            "        2048,\n",
            "        1024,\n",
            "    ), type='Resize'),\n",
            "    dict(type='LoadAnnotations'),\n",
            "    dict(type='PackSegInputs'),\n",
            "]\n",
            "train_cfg = dict(max_iters=40000, type='IterBasedTrainLoop', val_interval=4000)\n",
            "train_dataloader = dict(\n",
            "    batch_size=2,\n",
            "    dataset=dict(\n",
            "        data_prefix=dict(\n",
            "            img_path='leftImg8bit/train', seg_map_path='gtFine/train'),\n",
            "        data_root='/gdrive/MyDrive/mmseg/data/cityscapes/',\n",
            "        pipeline=[\n",
            "            dict(type='LoadImageFromFile'),\n",
            "            dict(type='LoadAnnotations'),\n",
            "            dict(\n",
            "                keep_ratio=True,\n",
            "                ratio_range=(\n",
            "                    0.5,\n",
            "                    2.0,\n",
            "                ),\n",
            "                scale=(\n",
            "                    2048,\n",
            "                    1024,\n",
            "                ),\n",
            "                type='RandomResize'),\n",
            "            dict(\n",
            "                cat_max_ratio=0.75, crop_size=(\n",
            "                    512,\n",
            "                    1024,\n",
            "                ), type='RandomCrop'),\n",
            "            dict(prob=0.5, type='RandomFlip'),\n",
            "            dict(type='PhotoMetricDistortion'),\n",
            "            dict(type='PackSegInputs'),\n",
            "        ],\n",
            "        type='CityscapesDataset'),\n",
            "    num_workers=2,\n",
            "    persistent_workers=True,\n",
            "    sampler=dict(shuffle=True, type='InfiniteSampler'))\n",
            "train_pipeline = [\n",
            "    dict(type='LoadImageFromFile'),\n",
            "    dict(type='LoadAnnotations'),\n",
            "    dict(\n",
            "        keep_ratio=True,\n",
            "        ratio_range=(\n",
            "            0.5,\n",
            "            2.0,\n",
            "        ),\n",
            "        scale=(\n",
            "            2048,\n",
            "            1024,\n",
            "        ),\n",
            "        type='RandomResize'),\n",
            "    dict(cat_max_ratio=0.75, crop_size=(\n",
            "        512,\n",
            "        1024,\n",
            "    ), type='RandomCrop'),\n",
            "    dict(prob=0.5, type='RandomFlip'),\n",
            "    dict(type='PhotoMetricDistortion'),\n",
            "    dict(type='PackSegInputs'),\n",
            "]\n",
            "tta_model = dict(type='SegTTAModel')\n",
            "tta_pipeline = [\n",
            "    dict(backend_args=None, type='LoadImageFromFile'),\n",
            "    dict(\n",
            "        transforms=[\n",
            "            [\n",
            "                dict(keep_ratio=True, scale_factor=0.5, type='Resize'),\n",
            "                dict(keep_ratio=True, scale_factor=0.75, type='Resize'),\n",
            "                dict(keep_ratio=True, scale_factor=1.0, type='Resize'),\n",
            "                dict(keep_ratio=True, scale_factor=1.25, type='Resize'),\n",
            "                dict(keep_ratio=True, scale_factor=1.5, type='Resize'),\n",
            "                dict(keep_ratio=True, scale_factor=1.75, type='Resize'),\n",
            "            ],\n",
            "            [\n",
            "                dict(direction='horizontal', prob=0.0, type='RandomFlip'),\n",
            "                dict(direction='horizontal', prob=1.0, type='RandomFlip'),\n",
            "            ],\n",
            "            [\n",
            "                dict(type='LoadAnnotations'),\n",
            "            ],\n",
            "            [\n",
            "                dict(type='PackSegInputs'),\n",
            "            ],\n",
            "        ],\n",
            "        type='TestTimeAug'),\n",
            "]\n",
            "val_cfg = dict(type='ValLoop')\n",
            "val_dataloader = dict(\n",
            "    batch_size=1,\n",
            "    dataset=dict(\n",
            "        data_prefix=dict(\n",
            "            img_path='leftImg8bit/val', seg_map_path='gtFine/val'),\n",
            "        data_root='/gdrive/MyDrive/mmseg/data/cityscapes/',\n",
            "        pipeline=[\n",
            "            dict(type='LoadImageFromFile'),\n",
            "            dict(keep_ratio=True, scale=(\n",
            "                2048,\n",
            "                1024,\n",
            "            ), type='Resize'),\n",
            "            dict(type='LoadAnnotations'),\n",
            "            dict(type='PackSegInputs'),\n",
            "        ],\n",
            "        type='CityscapesDataset'),\n",
            "    num_workers=4,\n",
            "    persistent_workers=True,\n",
            "    sampler=dict(shuffle=False, type='DefaultSampler'))\n",
            "val_evaluator = dict(\n",
            "    iou_metrics=[\n",
            "        'mIoU',\n",
            "    ], type='IoUMetric')\n",
            "vis_backends = [\n",
            "    dict(type='LocalVisBackend'),\n",
            "]\n",
            "visualizer = dict(\n",
            "    name='visualizer',\n",
            "    type='SegLocalVisualizer',\n",
            "    vis_backends=[\n",
            "        dict(type='LocalVisBackend'),\n",
            "    ])\n",
            "work_dir = './work_dirs/config'\n",
            "\n",
            "/usr/local/lib/python3.10/dist-packages/mmseg/models/backbones/resnet.py:431: UserWarning: DeprecationWarning: pretrained is a deprecated, please use \"init_cfg\" instead\n",
            "  warnings.warn('DeprecationWarning: pretrained is a deprecated, '\n",
            "/usr/local/lib/python3.10/dist-packages/mmseg/models/builder.py:36: UserWarning: ``build_loss`` would be deprecated soon, please use ``mmseg.registry.MODELS.build()`` \n",
            "  warnings.warn('``build_loss`` would be deprecated soon, please use '\n",
            "/usr/local/lib/python3.10/dist-packages/mmseg/models/losses/cross_entropy_loss.py:235: UserWarning: Default ``avg_non_ignore`` is False, if you would like to ignore the certain label and average loss over non-ignore labels, which is the same with PyTorch official cross_entropy, set ``avg_non_ignore=True``.\n",
            "  warnings.warn(\n",
            "09/07 20:08:51 - mmengine - \u001b[4m\u001b[97mINFO\u001b[0m - Distributed training is not used, all SyncBatchNorm (SyncBN) layers in the model will be automatically reverted to BatchNormXd layers if they are used.\n",
            "/usr/local/lib/python3.10/dist-packages/mmseg/engine/hooks/visualization_hook.py:61: UserWarning: The draw is False, it means that the hook for visualization will not take effect. The results will NOT be visualized or stored.\n",
            "  warnings.warn('The draw is False, it means that the '\n",
            "09/07 20:08:51 - mmengine - \u001b[4m\u001b[97mINFO\u001b[0m - Hooks will be executed in the following order:\n",
            "before_run:\n",
            "(VERY_HIGH   ) RuntimeInfoHook                    \n",
            "(BELOW_NORMAL) LoggerHook                         \n",
            " -------------------- \n",
            "before_train:\n",
            "(VERY_HIGH   ) RuntimeInfoHook                    \n",
            "(NORMAL      ) IterTimerHook                      \n",
            "(VERY_LOW    ) CheckpointHook                     \n",
            " -------------------- \n",
            "before_train_epoch:\n",
            "(VERY_HIGH   ) RuntimeInfoHook                    \n",
            "(NORMAL      ) IterTimerHook                      \n",
            "(NORMAL      ) DistSamplerSeedHook                \n",
            " -------------------- \n",
            "before_train_iter:\n",
            "(VERY_HIGH   ) RuntimeInfoHook                    \n",
            "(NORMAL      ) IterTimerHook                      \n",
            " -------------------- \n",
            "after_train_iter:\n",
            "(VERY_HIGH   ) RuntimeInfoHook                    \n",
            "(NORMAL      ) IterTimerHook                      \n",
            "(NORMAL      ) SegVisualizationHook               \n",
            "(BELOW_NORMAL) LoggerHook                         \n",
            "(LOW         ) ParamSchedulerHook                 \n",
            "(VERY_LOW    ) CheckpointHook                     \n",
            " -------------------- \n",
            "after_train_epoch:\n",
            "(NORMAL      ) IterTimerHook                      \n",
            "(LOW         ) ParamSchedulerHook                 \n",
            "(VERY_LOW    ) CheckpointHook                     \n",
            " -------------------- \n",
            "before_val:\n",
            "(VERY_HIGH   ) RuntimeInfoHook                    \n",
            " -------------------- \n",
            "before_val_epoch:\n",
            "(NORMAL      ) IterTimerHook                      \n",
            " -------------------- \n",
            "before_val_iter:\n",
            "(NORMAL      ) IterTimerHook                      \n",
            " -------------------- \n",
            "after_val_iter:\n",
            "(NORMAL      ) IterTimerHook                      \n",
            "(NORMAL      ) SegVisualizationHook               \n",
            "(BELOW_NORMAL) LoggerHook                         \n",
            " -------------------- \n",
            "after_val_epoch:\n",
            "(VERY_HIGH   ) RuntimeInfoHook                    \n",
            "(NORMAL      ) IterTimerHook                      \n",
            "(BELOW_NORMAL) LoggerHook                         \n",
            "(LOW         ) ParamSchedulerHook                 \n",
            "(VERY_LOW    ) CheckpointHook                     \n",
            " -------------------- \n",
            "after_val:\n",
            "(VERY_HIGH   ) RuntimeInfoHook                    \n",
            " -------------------- \n",
            "after_train:\n",
            "(VERY_HIGH   ) RuntimeInfoHook                    \n",
            "(VERY_LOW    ) CheckpointHook                     \n",
            " -------------------- \n",
            "before_test:\n",
            "(VERY_HIGH   ) RuntimeInfoHook                    \n",
            " -------------------- \n",
            "before_test_epoch:\n",
            "(NORMAL      ) IterTimerHook                      \n",
            " -------------------- \n",
            "before_test_iter:\n",
            "(NORMAL      ) IterTimerHook                      \n",
            " -------------------- \n",
            "after_test_iter:\n",
            "(NORMAL      ) IterTimerHook                      \n",
            "(NORMAL      ) SegVisualizationHook               \n",
            "(BELOW_NORMAL) LoggerHook                         \n",
            " -------------------- \n",
            "after_test_epoch:\n",
            "(VERY_HIGH   ) RuntimeInfoHook                    \n",
            "(NORMAL      ) IterTimerHook                      \n",
            "(BELOW_NORMAL) LoggerHook                         \n",
            " -------------------- \n",
            "after_test:\n",
            "(VERY_HIGH   ) RuntimeInfoHook                    \n",
            " -------------------- \n",
            "after_run:\n",
            "(BELOW_NORMAL) LoggerHook                         \n",
            " -------------------- \n",
            "Traceback (most recent call last):\n",
            "  File \"/gdrive/MyDrive/mmseg//tools/train.py\", line 104, in <module>\n",
            "    main()\n",
            "  File \"/gdrive/MyDrive/mmseg//tools/train.py\", line 100, in main\n",
            "    runner.train()\n",
            "  File \"/usr/local/lib/python3.10/dist-packages/mmengine/runner/runner.py\", line 1703, in train\n",
            "    self._train_loop = self.build_train_loop(\n",
            "  File \"/usr/local/lib/python3.10/dist-packages/mmengine/runner/runner.py\", line 1495, in build_train_loop\n",
            "    loop = LOOPS.build(\n",
            "  File \"/usr/local/lib/python3.10/dist-packages/mmengine/registry/registry.py\", line 570, in build\n",
            "    return self.build_func(cfg, *args, **kwargs, registry=self)\n",
            "  File \"/usr/local/lib/python3.10/dist-packages/mmengine/registry/build_functions.py\", line 121, in build_from_cfg\n",
            "    obj = obj_cls(**args)  # type: ignore\n",
            "  File \"/usr/local/lib/python3.10/dist-packages/mmengine/runner/loops.py\", line 219, in __init__\n",
            "    super().__init__(runner, dataloader)\n",
            "  File \"/usr/local/lib/python3.10/dist-packages/mmengine/runner/base_loop.py\", line 26, in __init__\n",
            "    self.dataloader = runner.build_dataloader(\n",
            "  File \"/usr/local/lib/python3.10/dist-packages/mmengine/runner/runner.py\", line 1353, in build_dataloader\n",
            "    dataset = DATASETS.build(dataset_cfg)\n",
            "  File \"/usr/local/lib/python3.10/dist-packages/mmengine/registry/registry.py\", line 570, in build\n",
            "    return self.build_func(cfg, *args, **kwargs, registry=self)\n",
            "  File \"/usr/local/lib/python3.10/dist-packages/mmengine/registry/build_functions.py\", line 121, in build_from_cfg\n",
            "    obj = obj_cls(**args)  # type: ignore\n",
            "  File \"/usr/local/lib/python3.10/dist-packages/mmseg/datasets/cityscapes.py\", line 29, in __init__\n",
            "    super().__init__(\n",
            "  File \"/usr/local/lib/python3.10/dist-packages/mmseg/datasets/basesegdataset.py\", line 142, in __init__\n",
            "    self.full_init()\n",
            "  File \"/usr/local/lib/python3.10/dist-packages/mmengine/dataset/base_dataset.py\", line 305, in full_init\n",
            "    self.data_bytes, self.data_address = self._serialize_data()\n",
            "  File \"/usr/local/lib/python3.10/dist-packages/mmengine/dataset/base_dataset.py\", line 765, in _serialize_data\n",
            "    data_bytes = np.concatenate(data_list)\n",
            "  File \"<__array_function__ internals>\", line 180, in concatenate\n",
            "ValueError: need at least one array to concatenate\n"
          ]
        }
      ]
    }
  ],
  "metadata": {
    "accelerator": "GPU",
    "colab": {
      "provenance": [],
      "gpuType": "T4"
    },
    "kernelspec": {
      "display_name": "Python 3",
      "name": "python3"
    },
    "language_info": {
      "codemirror_mode": {
        "name": "ipython",
        "version": 3
      },
      "file_extension": ".py",
      "mimetype": "text/x-python",
      "name": "python",
      "nbconvert_exporter": "python",
      "pygments_lexer": "ipython3",
      "version": "3.8.10"
    }
  },
  "nbformat": 4,
  "nbformat_minor": 0
}